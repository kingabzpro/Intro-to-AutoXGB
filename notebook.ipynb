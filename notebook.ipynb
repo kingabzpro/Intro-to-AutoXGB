{
 "cells": [
  {
   "cell_type": "markdown",
   "source": "# Introduction to AutoXGB\n![cover](/Deepnote_AutoXGB.png)",
   "metadata": {
    "tags": [],
    "deepnote_app_coordinates": {
     "x": 0,
     "y": 12,
     "w": 12,
     "h": 5
    },
    "cell_id": "2eb826dd-9bac-4b1e-a2c1-940eb943fc98",
    "deepnote_cell_type": "markdown"
   }
  },
  {
   "cell_type": "markdown",
   "source": "[<img alt=\"Github\" src=\"https://img.shields.io/badge/AutoXGB-0.2.2-1e90ff?logo=github&logoColor=white&style=for-the-badge\" />](https://github.com/abhishekkrthakur/autoxgb)\n\n**XGBoost + Optuna: no brainer**\n",
   "metadata": {
    "tags": [],
    "deepnote_app_coordinates": {
     "x": 0,
     "y": 18,
     "w": 12,
     "h": 5
    },
    "cell_id": "00001-aa9150bf-91a3-45be-ae0a-066682538dc2",
    "deepnote_cell_type": "markdown"
   }
  },
  {
   "cell_type": "markdown",
   "source": "AutoXGB is simple but effective AutoML tool to train model tabular dataset directly. The AutoXGB use [XGBoost](https://xgboost.readthedocs.io/en/stable/) for training the model, [Optuna](https://optuna.org/) for hyperparameters optimization and [FastAPI](https://fastapi.tiangolo.com/) to run web app. \n\n* auto train xgboost directly from CSV files\n* auto tune xgboost using Optuna\n* auto serve best xgboot model using FastAPI\n\n```python\npip install autoxgb\n```",
   "metadata": {
    "tags": [],
    "deepnote_app_coordinates": {
     "x": 0,
     "y": 24,
     "w": 12,
     "h": 5
    },
    "cell_id": "00002-f4fb7d8d-5bd6-4cc4-b32d-9f192d698036",
    "deepnote_cell_type": "markdown"
   }
  },
  {
   "cell_type": "markdown",
   "source": "# Dataset\nThe dataset is available at Kaggle: [Adult Census Income](https://www.kaggle.com/uciml/adult-census-income) under [CC0: Public Domain](https://creativecommons.org/publicdomain/zero/1.0/). It was extracted from the [1994 Census bureau database](http://www.census.gov/en.html) by Ronny Kohavi and Barry Becker (Data Mining and Visualization, Silicon Graphics).The prediction task is to determine whether a person makes over $50K a year.",
   "metadata": {
    "tags": [],
    "deepnote_app_coordinates": {
     "x": 0,
     "y": 0,
     "w": 12,
     "h": 5
    },
    "cell_id": "00003-cfc33d81-23d2-4d71-b33d-bedcebd73969",
    "deepnote_cell_type": "markdown"
   }
  },
  {
   "cell_type": "markdown",
   "source": "# Initializing\n- **train_filename** -> path to training data\n- **output** -> path to output folder to store artifacts\n- **test_filename** -> path to test data. If not specified, only OOF predictions will be saved\n- **task** = None -> if not specified, the task will be inferred automatically\n    - task = \"classification\"\n    - task = \"regression\"\n- **idx** -> if not specified, the id column will be generated automatically with the name `id`\n- **targets** -> if not specified, the target column be assumed to be named `target` and the problem will be treated as one of: binary classification, multiclass classification, or single column regression\n    * targets = [\"target\"]\n    * targets = [\"target1\", \"target2\"]\n- **features** -> if not specified, all columns except `id`, `targets` & `kfold` columns will be used\n    - features = [\"col1\", \"col2\"]\n- **categorical_features** -> if not specified, categorical columns will be inferred automatically\n    - categorical_features = [\"col1\", \"col2\"]\n- **use_gpu** -> if not specified, GPU is not used\n    - use_gpu = True\n    - use_gpu = False\n- **num_folds** -> number of folds to use for cross-validation\n- **seed** -> random seed for reproducibility\n\n\n- **num_trials** -> number of optuna trials to run\n    - default is 1000\n    - num_trials = 1000\n- **time_limit** -> time_limit for optuna trials in seconds\n    - if not specified, timeout is not set and all trials are run\n    - time_limit = None\n\n- **fast** -> if fast is set to True, the hyperparameter tuning will use only one fold. however, the model will be trained on all folds in the end to generate OOF predictions and test predictions",
   "metadata": {
    "tags": [],
    "deepnote_app_coordinates": {
     "x": 0,
     "y": 30,
     "w": 12,
     "h": 5
    },
    "cell_id": "00004-9f1568c0-6f53-4134-94aa-1b2e70a2ef29",
    "deepnote_cell_type": "markdown"
   }
  },
  {
   "cell_type": "code",
   "metadata": {
    "tags": [],
    "deepnote_to_be_reexecuted": false,
    "source_hash": "53cc88ff",
    "execution_start": 1644495784843,
    "execution_millis": 4158,
    "deepnote_app_coordinates": {
     "x": 0,
     "y": 36,
     "w": 12,
     "h": 5
    },
    "cell_id": "00005-edf0369c-6763-488d-bf27-ecfa67f5be84",
    "deepnote_cell_type": "code"
   },
   "source": "from autoxgb import AutoXGB\n\n\n# Input tabular data and output artifacts\ntrain_filename = \"binary_classification.csv\"\noutput = \"output\"\n\n# optional parameters\ntest_filename = None\ntask = None\nidx = None\ntargets = [\"income\"]\nfeatures = None\ncategorical_features = None\nuse_gpu = False\nnum_folds = 5\nseed = 42\nnum_trials = 100\ntime_limit = 360\nfast = False",
   "execution_count": null,
   "outputs": []
  },
  {
   "cell_type": "markdown",
   "source": "# Training & Optimization\nIt's time to defined model using `AutoXGB()`and add previously defined parameters. Finally, we will use `axgb.train()` to start model training. The model will run XGBboost model, Optuna, and save artifacts (**model, predication, results, config, params, encoders**) in output folder.",
   "metadata": {
    "tags": [],
    "deepnote_app_coordinates": {
     "x": 0,
     "y": 42,
     "w": 12,
     "h": 5
    },
    "cell_id": "00006-d4cc8239-3caa-40d9-ad2e-edb4f8666252",
    "deepnote_cell_type": "markdown"
   }
  },
  {
   "cell_type": "code",
   "metadata": {
    "tags": [],
    "deepnote_to_be_reexecuted": false,
    "source_hash": "18916406",
    "execution_start": 1644428212311,
    "execution_millis": 2075103,
    "deepnote_app_coordinates": {
     "x": 0,
     "y": null,
     "w": 12,
     "h": 5
    },
    "cell_id": "00007-6a13138b-249f-4473-bd29-46ca11627688",
    "deepnote_cell_type": "code"
   },
   "source": "axgb = AutoXGB(\n    train_filename=train_filename,\n    output=output,\n    test_filename=test_filename,\n    task=task,\n    idx=idx,\n    targets=targets,\n    features=features,\n    categorical_features=categorical_features,\n    use_gpu=use_gpu,\n    num_folds=num_folds,\n    seed=seed,\n    num_trials=num_trials,\n    time_limit=time_limit,\n    fast=fast,\n)\naxgb.train()",
   "execution_count": null,
   "outputs": [
    {
     "name": "stderr",
     "text": "2022-02-09 17:36:52.310 | INFO     | autoxgb.autoxgb:__post_init__:42 - Output directory: output\n2022-02-09 17:36:52.311 | WARNING  | autoxgb.autoxgb:__post_init__:49 - No id column specified. Will default to `id`.\n2022-02-09 17:36:52.314 | INFO     | autoxgb.autoxgb:_process_data:149 - Reading training data\n2022-02-09 17:36:52.403 | INFO     | autoxgb.utils:reduce_memory_usage:48 - Mem. usage decreased to 2.64 Mb (29.2% reduction)\n2022-02-09 17:36:52.427 | INFO     | autoxgb.autoxgb:_determine_problem_type:140 - Problem type: binary_classification\n2022-02-09 17:36:52.428 | INFO     | autoxgb.autoxgb:_create_folds:58 - Creating folds\n2022-02-09 17:36:52.472 | INFO     | autoxgb.autoxgb:_process_data:170 - Encoding target(s)\n2022-02-09 17:36:52.486 | INFO     | autoxgb.autoxgb:_process_data:195 - Found 8 categorical features.\n2022-02-09 17:36:52.490 | INFO     | autoxgb.autoxgb:_process_data:198 - Encoding categorical features\n2022-02-09 17:36:53.034 | INFO     | autoxgb.autoxgb:_process_data:236 - Model config: train_filename='binary_classification.csv' test_filename=None idx='id' targets=['income'] problem_type=<ProblemType.binary_classification: 1> output='output' features=['age', 'workclass', 'fnlwgt', 'education', 'education.num', 'marital.status', 'occupation', 'relationship', 'race', 'sex', 'capital.gain', 'capital.loss', 'hours.per.week', 'native.country'] num_folds=5 use_gpu=False seed=42 categorical_features=['workclass', 'education', 'marital.status', 'occupation', 'relationship', 'race', 'sex', 'native.country'] num_trials=100 time_limit=360 fast=False\n2022-02-09 17:36:53.035 | INFO     | autoxgb.autoxgb:_process_data:237 - Saving model config\n2022-02-09 17:36:53.043 | INFO     | autoxgb.autoxgb:_process_data:241 - Saving encoders\n\u001b[32m[I 2022-02-09 17:36:53,373]\u001b[0m A new study created in RDB with name: autoxgb\u001b[0m\n[17:36:54] WARNING: ../src/learner.cc:576: \nParameters: { \"colsample_bytree\", \"max_depth\", \"subsample\", \"tree_method\" } might not be used.\n\n  This could be a false alarm, with some parameters getting used by language bindings but\n  then being mistakenly passed down to XGBoost core, or some parameter actually being used\n  but getting flagged wrongly here. Please open an issue if you find any such cases.\n\n\n[17:40:28] WARNING: ../src/learner.cc:576: \nParameters: { \"colsample_bytree\", \"max_depth\", \"subsample\", \"tree_method\" } might not be used.\n\n  This could be a false alarm, with some parameters getting used by language bindings but\n  then being mistakenly passed down to XGBoost core, or some parameter actually being used\n  but getting flagged wrongly here. Please open an issue if you find any such cases.\n\n\n[17:43:51] WARNING: ../src/learner.cc:576: \nParameters: { \"colsample_bytree\", \"max_depth\", \"subsample\", \"tree_method\" } might not be used.\n\n  This could be a false alarm, with some parameters getting used by language bindings but\n  then being mistakenly passed down to XGBoost core, or some parameter actually being used\n  but getting flagged wrongly here. Please open an issue if you find any such cases.\n\n\n[17:47:12] WARNING: ../src/learner.cc:576: \nParameters: { \"colsample_bytree\", \"max_depth\", \"subsample\", \"tree_method\" } might not be used.\n\n  This could be a false alarm, with some parameters getting used by language bindings but\n  then being mistakenly passed down to XGBoost core, or some parameter actually being used\n  but getting flagged wrongly here. Please open an issue if you find any such cases.\n\n\n[17:50:28] WARNING: ../src/learner.cc:576: \nParameters: { \"colsample_bytree\", \"max_depth\", \"subsample\", \"tree_method\" } might not be used.\n\n  This could be a false alarm, with some parameters getting used by language bindings but\n  then being mistakenly passed down to XGBoost core, or some parameter actually being used\n  but getting flagged wrongly here. Please open an issue if you find any such cases.\n\n\n2022-02-09 17:53:44.358 | INFO     | autoxgb.utils:optimize:192 - Metrics: {'auc': 0.8515864262823316, 'logloss': 0.3868649856836543, 'f1': 0.5351485750859325, 'accuracy': 0.8230396087432015, 'precision': 0.7282822005864846, 'recall': 0.42303153575005525}\n\u001b[32m[I 2022-02-09 17:53:44,509]\u001b[0m Trial 0 finished with value: 0.3868649856836543 and parameters: {'learning_rate': 0.03456865625078672, 'reg_lambda': 2.2769738947690841e-07, 'reg_alpha': 0.006720213271638041, 'subsample': 0.6602398119145353, 'colsample_bytree': 0.7758360189887558, 'max_depth': 6, 'early_stopping_rounds': 286, 'n_estimators': 7000, 'tree_method': 'approx', 'booster': 'gblinear'}. Best is trial 0 with value: 0.3868649856836543.\u001b[0m\n2022-02-09 17:53:44.545 | INFO     | autoxgb.autoxgb:train:248 - Training complete\n2022-02-09 17:53:44.547 | INFO     | autoxgb.autoxgb:predict:252 - Creating OOF and test predictions\n2022-02-09 17:53:44.550 | INFO     | autoxgb.utils:predict_model:238 - Training and predicting for fold 0\n[17:53:44] WARNING: ../src/learner.cc:576: \nParameters: { \"colsample_bytree\", \"max_depth\", \"subsample\", \"tree_method\" } might not be used.\n\n  This could be a false alarm, with some parameters getting used by language bindings but\n  then being mistakenly passed down to XGBoost core, or some parameter actually being used\n  but getting flagged wrongly here. Please open an issue if you find any such cases.\n\n\n2022-02-09 17:57:07.674 | INFO     | autoxgb.utils:predict_model:333 - Fold 0 done!\n2022-02-09 17:57:07.677 | INFO     | autoxgb.utils:predict_model:238 - Training and predicting for fold 1\n[17:57:07] WARNING: ../src/learner.cc:576: \nParameters: { \"colsample_bytree\", \"max_depth\", \"subsample\", \"tree_method\" } might not be used.\n\n  This could be a false alarm, with some parameters getting used by language bindings but\n  then being mistakenly passed down to XGBoost core, or some parameter actually being used\n  but getting flagged wrongly here. Please open an issue if you find any such cases.\n\n\n2022-02-09 18:00:40.616 | INFO     | autoxgb.utils:predict_model:333 - Fold 1 done!\n2022-02-09 18:00:40.622 | INFO     | autoxgb.utils:predict_model:238 - Training and predicting for fold 2\n[18:00:40] WARNING: ../src/learner.cc:576: \nParameters: { \"colsample_bytree\", \"max_depth\", \"subsample\", \"tree_method\" } might not be used.\n\n  This could be a false alarm, with some parameters getting used by language bindings but\n  then being mistakenly passed down to XGBoost core, or some parameter actually being used\n  but getting flagged wrongly here. Please open an issue if you find any such cases.\n\n\n",
     "output_type": "stream"
    },
    {
     "name": "stderr",
     "text": "2022-02-09 18:04:11.459 | INFO     | autoxgb.utils:predict_model:333 - Fold 2 done!\n2022-02-09 18:04:11.460 | INFO     | autoxgb.utils:predict_model:238 - Training and predicting for fold 3\n[18:04:11] WARNING: ../src/learner.cc:576: \nParameters: { \"colsample_bytree\", \"max_depth\", \"subsample\", \"tree_method\" } might not be used.\n\n  This could be a false alarm, with some parameters getting used by language bindings but\n  then being mistakenly passed down to XGBoost core, or some parameter actually being used\n  but getting flagged wrongly here. Please open an issue if you find any such cases.\n\n\n2022-02-09 18:07:48.436 | INFO     | autoxgb.utils:predict_model:333 - Fold 3 done!\n2022-02-09 18:07:48.442 | INFO     | autoxgb.utils:predict_model:238 - Training and predicting for fold 4\n[18:07:48] WARNING: ../src/learner.cc:576: \nParameters: { \"colsample_bytree\", \"max_depth\", \"subsample\", \"tree_method\" } might not be used.\n\n  This could be a false alarm, with some parameters getting used by language bindings but\n  then being mistakenly passed down to XGBoost core, or some parameter actually being used\n  but getting flagged wrongly here. Please open an issue if you find any such cases.\n\n\n2022-02-09 18:11:27.161 | INFO     | autoxgb.utils:predict_model:333 - Fold 4 done!\n2022-02-09 18:11:27.163 | INFO     | autoxgb.utils:predict_model:336 - Metrics: {'auc': 0.851585935958628, 'logloss': 0.3868651767621002, 'f1': 0.5351485750859325, 'accuracy': 0.8230396087432015, 'precision': 0.7282822005864846, 'recall': 0.42303153575005525}\n2022-02-09 18:11:27.400 | INFO     | autoxgb.utils:predict_model:342 - No test data supplied. Only OOF predictions were generated\n",
     "output_type": "stream"
    }
   ]
  },
  {
   "cell_type": "markdown",
   "source": "## Training with CLI\n\nWe can also train the model in terminal using the `autoxgb train` command. The parameters are same as above.\n\n```\nautoxgb train \\\n --train_filename binary_classification.csv \\\n --output output \\\n```",
   "metadata": {
    "tags": [],
    "deepnote_app_coordinates": {
     "x": 0,
     "y": 96,
     "w": 12,
     "h": 5
    },
    "cell_id": "00008-1b628573-2308-4bb8-a3ef-dc40c66c5b4f",
    "deepnote_cell_type": "markdown"
   }
  },
  {
   "cell_type": "markdown",
   "source": "# Web API\nBy using `autoxgb serve` on CLI you can run localy FastAPI server. \n\n![Picture title](/image-20220210-172802.png)\n\n\n## AutoXGB Serve Parameters\n- model_path -> Path to model\n- port -> Port to serve on\n- host -> Host to serve on\n- workers -> Number of workers\n- debug -> Display logs of error and success",
   "metadata": {
    "tags": [],
    "deepnote_app_coordinates": {
     "x": 0,
     "y": 48,
     "w": 12,
     "h": 5
    },
    "cell_id": "00009-b88a3da5-6879-4f79-b2bc-3d12817fecdc",
    "deepnote_cell_type": "markdown"
   }
  },
  {
   "cell_type": "markdown",
   "source": "## Deepnote Public Server\nIn order to run local server on cloud, Deepnote use `ngrok`. We just need to turn on the option and use port as 8080.\n\n![Picture title](/image-20220210-171603.png)\n\nOur API is running smooth and you can access it using `https://8d3ae411-c6bc-4cad-8a14-732f8e3f13b7.deepnoteproject.com/docs`. We have provided just model path, host ip, and port number to run the server.",
   "metadata": {
    "tags": [],
    "deepnote_app_coordinates": {
     "x": 0,
     "y": 54,
     "w": 12,
     "h": 5
    },
    "cell_id": "00010-9c317aa5-992f-4203-a739-b790fe085a1c",
    "deepnote_cell_type": "markdown"
   }
  },
  {
   "cell_type": "code",
   "metadata": {
    "tags": [],
    "deepnote_to_be_reexecuted": false,
    "source_hash": "4323e44c",
    "execution_start": 1644495829825,
    "execution_millis": 1410966,
    "deepnote_app_coordinates": {
     "x": 0,
     "y": 6,
     "w": 12,
     "h": 5
    },
    "cell_id": "00011-0938c222-1c87-483c-a756-bc0c8c7b357b",
    "deepnote_cell_type": "code"
   },
   "source": "!autoxgb serve --model_path /work/output --host 0.0.0.0 --port 8080 --debug",
   "execution_count": null,
   "outputs": [
    {
     "name": "stdout",
     "text": "\u001b[32mINFO\u001b[0m:     Will watch for changes in these directories: ['/work']\n\u001b[32mINFO\u001b[0m:     Uvicorn running on \u001b[1mhttp://0.0.0.0:8080\u001b[0m (Press CTRL+C to quit)\n\u001b[32mINFO\u001b[0m:     Started reloader process [\u001b[36m\u001b[1m153\u001b[0m] using \u001b[36m\u001b[1mwatchgod\u001b[0m\n\u001b[32mINFO\u001b[0m:     Started server process [\u001b[36m163\u001b[0m]\n\u001b[32mINFO\u001b[0m:     Waiting for application startup.\n\u001b[32mINFO\u001b[0m:     Application startup complete.\n\u001b[32mINFO\u001b[0m:     172.3.167.43:41136 - \"\u001b[1mGET /favicon.ico HTTP/1.1\u001b[0m\" \u001b[31m404 Not Found\u001b[0m\n\u001b[32mINFO\u001b[0m:     172.3.167.43:41278 - \"\u001b[1mGET / HTTP/1.1\u001b[0m\" \u001b[31m404 Not Found\u001b[0m\n\u001b[32mINFO\u001b[0m:     172.3.188.123:38366 - \"\u001b[1mGET /doc HTTP/1.1\u001b[0m\" \u001b[31m404 Not Found\u001b[0m\n\u001b[32mINFO\u001b[0m:     172.3.161.55:40498 - \"\u001b[1mGET /doc HTTP/1.1\u001b[0m\" \u001b[31m404 Not Found\u001b[0m\n\u001b[32mINFO\u001b[0m:     172.3.161.55:40628 - \"\u001b[1mGET /docs HTTP/1.1\u001b[0m\" \u001b[32m200 OK\u001b[0m\n\u001b[32mINFO\u001b[0m:     172.3.188.123:38788 - \"\u001b[1mGET /openapi.json HTTP/1.1\u001b[0m\" \u001b[32m200 OK\u001b[0m\n\u001b[32mINFO\u001b[0m:     172.3.167.43:48326 - \"\u001b[1mGET /docs HTTP/1.1\u001b[0m\" \u001b[32m200 OK\u001b[0m\n\u001b[32mINFO\u001b[0m:     172.3.161.55:47018 - \"\u001b[1mGET /openapi.json HTTP/1.1\u001b[0m\" \u001b[32m200 OK\u001b[0m\n/root/venv/lib/python3.8/site-packages/autoxgb/predict.py:60: SettingWithCopyWarning: \nA value is trying to be set on a copy of a slice from a DataFrame.\nTry using .loc[row_indexer,col_indexer] = value instead\n\nSee the caveats in the documentation: https://pandas.pydata.org/pandas-docs/stable/user_guide/indexing.html#returning-a-view-versus-a-copy\n  test_features[col] = test_features[col].astype(np.int64)\n/root/venv/lib/python3.8/site-packages/autoxgb/predict.py:60: SettingWithCopyWarning: \nA value is trying to be set on a copy of a slice from a DataFrame.\nTry using .loc[row_indexer,col_indexer] = value instead\n\nSee the caveats in the documentation: https://pandas.pydata.org/pandas-docs/stable/user_guide/indexing.html#returning-a-view-versus-a-copy\n  test_features[col] = test_features[col].astype(np.int64)\n/root/venv/lib/python3.8/site-packages/autoxgb/predict.py:60: SettingWithCopyWarning: \nA value is trying to be set on a copy of a slice from a DataFrame.\nTry using .loc[row_indexer,col_indexer] = value instead\n\nSee the caveats in the documentation: https://pandas.pydata.org/pandas-docs/stable/user_guide/indexing.html#returning-a-view-versus-a-copy\n  test_features[col] = test_features[col].astype(np.int64)\n/root/venv/lib/python3.8/site-packages/autoxgb/predict.py:60: SettingWithCopyWarning: \nA value is trying to be set on a copy of a slice from a DataFrame.\nTry using .loc[row_indexer,col_indexer] = value instead\n\nSee the caveats in the documentation: https://pandas.pydata.org/pandas-docs/stable/user_guide/indexing.html#returning-a-view-versus-a-copy\n  test_features[col] = test_features[col].astype(np.int64)\n/root/venv/lib/python3.8/site-packages/autoxgb/predict.py:60: SettingWithCopyWarning: \nA value is trying to be set on a copy of a slice from a DataFrame.\nTry using .loc[row_indexer,col_indexer] = value instead\n\nSee the caveats in the documentation: https://pandas.pydata.org/pandas-docs/stable/user_guide/indexing.html#returning-a-view-versus-a-copy\n  test_features[col] = test_features[col].astype(np.int64)\n\u001b[32mINFO\u001b[0m:     172.3.167.43:38678 - \"\u001b[1mPOST /predict HTTP/1.1\u001b[0m\" \u001b[32m200 OK\u001b[0m\n\u001b[32mINFO\u001b[0m:     172.3.188.123:51408 - \"\u001b[1mGET / HTTP/1.1\u001b[0m\" \u001b[31m404 Not Found\u001b[0m\n\u001b[32mINFO\u001b[0m:     172.3.161.55:54290 - \"\u001b[1mGET / HTTP/1.1\u001b[0m\" \u001b[31m404 Not Found\u001b[0m\n\u001b[32mINFO\u001b[0m:     172.3.161.55:54294 - \"\u001b[1mPOST /predict/ HTTP/1.1\u001b[0m\" \u001b[33m307 Temporary Redirect\u001b[0m\n\u001b[32mINFO\u001b[0m:     172.3.167.43:55632 - \"\u001b[1mGET /predict HTTP/1.1\u001b[0m\" \u001b[31m405 Method Not Allowed\u001b[0m\n\u001b[32mINFO\u001b[0m:     172.3.167.43:58376 - \"\u001b[1mPOST /predict/ HTTP/1.1\u001b[0m\" \u001b[33m307 Temporary Redirect\u001b[0m\n\u001b[32mINFO\u001b[0m:     172.3.161.55:57048 - \"\u001b[1mGET /predict HTTP/1.1\u001b[0m\" \u001b[31m405 Method Not Allowed\u001b[0m\n\u001b[32mINFO\u001b[0m:     172.3.167.43:58782 - \"\u001b[1mGET /predict/ HTTP/1.1\u001b[0m\" \u001b[33m307 Temporary Redirect\u001b[0m\n\u001b[32mINFO\u001b[0m:     172.3.161.55:57508 - \"\u001b[1mGET /predict HTTP/1.1\u001b[0m\" \u001b[31m405 Method Not Allowed\u001b[0m\n\u001b[32mINFO\u001b[0m:     172.3.188.123:56730 - \"\u001b[1mPOST /predict/ HTTP/1.1\u001b[0m\" \u001b[33m307 Temporary Redirect\u001b[0m\n\u001b[32mINFO\u001b[0m:     172.3.161.55:58616 - \"\u001b[1mGET /predict HTTP/1.1\u001b[0m\" \u001b[31m405 Method Not Allowed\u001b[0m\n\u001b[32mINFO\u001b[0m:     172.3.161.55:59288 - \"\u001b[1mPOST /predict/ HTTP/1.1\u001b[0m\" \u001b[33m307 Temporary Redirect\u001b[0m\n\u001b[32mINFO\u001b[0m:     172.3.167.43:60628 - \"\u001b[1mGET /predict HTTP/1.1\u001b[0m\" \u001b[31m405 Method Not Allowed\u001b[0m\n\u001b[32mINFO\u001b[0m:     172.3.188.123:58756 - \"\u001b[1mPOST /predict/ HTTP/1.1\u001b[0m\" \u001b[33m307 Temporary Redirect\u001b[0m\n\u001b[32mINFO\u001b[0m:     172.3.188.123:58760 - \"\u001b[1mGET /predict HTTP/1.1\u001b[0m\" \u001b[31m405 Method Not Allowed\u001b[0m\n\u001b[32mINFO\u001b[0m:     172.3.167.43:34424 - \"\u001b[1mGET /docs/predict HTTP/1.1\u001b[0m\" \u001b[31m404 Not Found\u001b[0m\n\u001b[32mINFO\u001b[0m:     172.3.188.123:59578 - \"\u001b[1mGET /docs/ HTTP/1.1\u001b[0m\" \u001b[33m307 Temporary Redirect\u001b[0m\n\u001b[32mINFO\u001b[0m:     172.3.167.43:34576 - \"\u001b[1mGET /docs HTTP/1.1\u001b[0m\" \u001b[32m200 OK\u001b[0m\n\u001b[32mINFO\u001b[0m:     172.3.167.43:34616 - \"\u001b[1mGET /openapi.json HTTP/1.1\u001b[0m\" \u001b[32m200 OK\u001b[0m\n/root/venv/lib/python3.8/site-packages/autoxgb/predict.py:60: SettingWithCopyWarning: \nA value is trying to be set on a copy of a slice from a DataFrame.\nTry using .loc[row_indexer,col_indexer] = value instead\n\nSee the caveats in the documentation: https://pandas.pydata.org/pandas-docs/stable/user_guide/indexing.html#returning-a-view-versus-a-copy\n  test_features[col] = test_features[col].astype(np.int64)\n/root/venv/lib/python3.8/site-packages/autoxgb/predict.py:60: SettingWithCopyWarning: \nA value is trying to be set on a copy of a slice from a DataFrame.\nTry using .loc[row_indexer,col_indexer] = value instead\n\nSee the caveats in the documentation: https://pandas.pydata.org/pandas-docs/stable/user_guide/indexing.html#returning-a-view-versus-a-copy\n  test_features[col] = test_features[col].astype(np.int64)\n/root/venv/lib/python3.8/site-packages/autoxgb/predict.py:60: SettingWithCopyWarning: \nA value is trying to be set on a copy of a slice from a DataFrame.\nTry using .loc[row_indexer,col_indexer] = value instead\n\nSee the caveats in the documentation: https://pandas.pydata.org/pandas-docs/stable/user_guide/indexing.html#returning-a-view-versus-a-copy\n  test_features[col] = test_features[col].astype(np.int64)\n/root/venv/lib/python3.8/site-packages/autoxgb/predict.py:60: SettingWithCopyWarning: \nA value is trying to be set on a copy of a slice from a DataFrame.\nTry using .loc[row_indexer,col_indexer] = value instead\n\nSee the caveats in the documentation: https://pandas.pydata.org/pandas-docs/stable/user_guide/indexing.html#returning-a-view-versus-a-copy\n  test_features[col] = test_features[col].astype(np.int64)\n/root/venv/lib/python3.8/site-packages/autoxgb/predict.py:60: SettingWithCopyWarning: \nA value is trying to be set on a copy of a slice from a DataFrame.\nTry using .loc[row_indexer,col_indexer] = value instead\n\nSee the caveats in the documentation: https://pandas.pydata.org/pandas-docs/stable/user_guide/indexing.html#returning-a-view-versus-a-copy\n  test_features[col] = test_features[col].astype(np.int64)\n\u001b[32mINFO\u001b[0m:     172.3.167.43:35520 - \"\u001b[1mPOST /predict HTTP/1.1\u001b[0m\" \u001b[32m200 OK\u001b[0m\n\u001b[32mINFO\u001b[0m:     172.3.188.123:35358 - \"\u001b[1mPOST /predict HTTP/1.1\u001b[0m\" \u001b[31m422 Unprocessable Entity\u001b[0m\n/root/venv/lib/python3.8/site-packages/autoxgb/predict.py:60: SettingWithCopyWarning: \nA value is trying to be set on a copy of a slice from a DataFrame.\nTry using .loc[row_indexer,col_indexer] = value instead\n\nSee the caveats in the documentation: https://pandas.pydata.org/pandas-docs/stable/user_guide/indexing.html#returning-a-view-versus-a-copy\n  test_features[col] = test_features[col].astype(np.int64)\n/root/venv/lib/python3.8/site-packages/autoxgb/predict.py:60: SettingWithCopyWarning: \nA value is trying to be set on a copy of a slice from a DataFrame.\nTry using .loc[row_indexer,col_indexer] = value instead\n\nSee the caveats in the documentation: https://pandas.pydata.org/pandas-docs/stable/user_guide/indexing.html#returning-a-view-versus-a-copy\n  test_features[col] = test_features[col].astype(np.int64)\n/root/venv/lib/python3.8/site-packages/autoxgb/predict.py:60: SettingWithCopyWarning: \nA value is trying to be set on a copy of a slice from a DataFrame.\nTry using .loc[row_indexer,col_indexer] = value instead\n\nSee the caveats in the documentation: https://pandas.pydata.org/pandas-docs/stable/user_guide/indexing.html#returning-a-view-versus-a-copy\n  test_features[col] = test_features[col].astype(np.int64)\n/root/venv/lib/python3.8/site-packages/autoxgb/predict.py:60: SettingWithCopyWarning: \nA value is trying to be set on a copy of a slice from a DataFrame.\nTry using .loc[row_indexer,col_indexer] = value instead\n\nSee the caveats in the documentation: https://pandas.pydata.org/pandas-docs/stable/user_guide/indexing.html#returning-a-view-versus-a-copy\n  test_features[col] = test_features[col].astype(np.int64)\n/root/venv/lib/python3.8/site-packages/autoxgb/predict.py:60: SettingWithCopyWarning: \nA value is trying to be set on a copy of a slice from a DataFrame.\nTry using .loc[row_indexer,col_indexer] = value instead\n\nSee the caveats in the documentation: https://pandas.pydata.org/pandas-docs/stable/user_guide/indexing.html#returning-a-view-versus-a-copy\n  test_features[col] = test_features[col].astype(np.int64)\n\u001b[32mINFO\u001b[0m:     172.3.167.43:39118 - \"\u001b[1mPOST /predict HTTP/1.1\u001b[0m\" \u001b[32m200 OK\u001b[0m\n^C\n\u001b[32mINFO\u001b[0m:     Shutting down\n\u001b[32mINFO\u001b[0m:     Finished server process [\u001b[36m163\u001b[0m]\n\u001b[31mERROR\u001b[0m:    Traceback (most recent call last):\n  File \"/root/venv/lib/python3.8/site-packages/starlette/routing.py\", line 624, in lifespan\n    await receive()\n  File \"/root/venv/lib/python3.8/site-packages/uvicorn/lifespan/on.py\", line 135, in receive\n    return await self.receive_queue.get()\n  File \"/usr/local/lib/python3.8/asyncio/queues.py\", line 163, in get\n    await getter\nasyncio.exceptions.CancelledError\n\n",
     "output_type": "stream"
    }
   ]
  },
  {
   "cell_type": "markdown",
   "source": "# Prediction\n\nWe can add random inputs to predict the income . In this example we are using FastAPI `/docs` option to run GUI.",
   "metadata": {
    "tags": [],
    "deepnote_app_coordinates": {
     "x": 0,
     "y": 60,
     "w": 12,
     "h": 5
    },
    "cell_id": "00012-97f1dbbe-e2e3-4b54-a1ff-780b3a2f5ef8",
    "deepnote_cell_type": "markdown"
   }
  },
  {
   "cell_type": "markdown",
   "source": "## Input\nWe are going to use FastAPI GUI to run predictions on model by adding `/docs` at the end of the link. For example `172.3.167.43:39118/docs`\n- workclass: \"Private\"\n- education: \"HS-grad\"\n- marital.status: \"Widowed\"\n- occupation: \"Transport-moving\"\n- relationship: \"Unmarried\"\n- race: \"White\"\n- sex: \"Male\"\n- native.country: \"United-States\"\n- age: 20\n- fnlwgt: 313986\n- education.num: 9\n- capital.gain: 0\n- capital.loss: 0\n- hours.per.week: 40\n\n![Picture title](/image-20220210-173410.png)",
   "metadata": {
    "tags": [],
    "deepnote_app_coordinates": {
     "x": 0,
     "y": 66,
     "w": 12,
     "h": 5
    },
    "cell_id": "00013-714ad260-0ba2-4c8d-a11d-958c3cf73d72",
    "deepnote_cell_type": "markdown"
   }
  },
  {
   "cell_type": "markdown",
   "source": "## Outcome\nThe result is `<50k` with confidence of 97.6% and `>50k` with confidence of 2.3%.",
   "metadata": {
    "tags": [],
    "deepnote_app_coordinates": {
     "x": 0,
     "y": 84,
     "w": 12,
     "h": 5
    },
    "cell_id": "00014-c0580b61-488c-4aaa-aa53-29e55e23c159",
    "deepnote_cell_type": "markdown"
   }
  },
  {
   "cell_type": "markdown",
   "source": "![Picture title](/image-20220210-173502.png)",
   "metadata": {
    "tags": [],
    "deepnote_app_coordinates": {
     "x": 0,
     "y": 72,
     "w": 12,
     "h": 5
    },
    "cell_id": "00015-dc154085-e2cd-4a3e-b58b-8a73aa9739cb",
    "deepnote_cell_type": "markdown"
   }
  },
  {
   "cell_type": "markdown",
   "source": "## Test with Request\nYou can try the API using `requests` in Python. Just push params in the form of a dictionary and get output in the form of json.",
   "metadata": {
    "tags": [],
    "deepnote_app_coordinates": {
     "x": 0,
     "y": 90,
     "w": 12,
     "h": 5
    },
    "cell_id": "00016-c0d440c7-22d9-4288-b9f0-6b374e7c75ef",
    "deepnote_cell_type": "markdown"
   }
  },
  {
   "cell_type": "code",
   "metadata": {
    "tags": [],
    "deepnote_to_be_reexecuted": false,
    "source_hash": "b47081da",
    "execution_start": 1644497240806,
    "execution_millis": 924,
    "output_cleared": true,
    "deepnote_app_coordinates": {
     "x": 0,
     "y": 78,
     "w": 12,
     "h": 5
    },
    "cell_id": "00017-fd890de3-78df-4d48-beb2-cf026cbd4789",
    "deepnote_cell_type": "code"
   },
   "source": "import requests\n\nparams = {\n    \"workclass\": \"Private\",\n    \"education\": \"HS-grad\",\n    \"marital.status\": \"Widowed\",\n    \"occupation\": \"Transport-moving\",\n    \"relationship\": \"Unmarried\",\n    \"race\": \"White\",\n    \"sex\": \"Male\",\n    \"native.country\": \"United-States\",\n    \"age\": 20,\n    \"fnlwgt\": 313986,\n    \"education.num\": 9,\n    \"capital.gain\": 0,\n    \"capital.loss\": 0,\n    \"hours.per.week\": 40,\n}\n\n\narticle = requests.post(\n    f\"https://8d3ae411-c6bc-4cad-8a14-732f8e3f13b7.deepnoteproject.com/predict\",\n    json=params,\n)\n\ndata_dict = article.json()\nprint(data_dict)\n## {'id': 0, '<=50K': 0.9762147068977356, '>50K': 0.023785298690199852}",
   "execution_count": null,
   "outputs": []
  },
  {
   "cell_type": "markdown",
   "source": "<a style='text-decoration:none;line-height:16px;display:flex;color:#5B5B62;padding:10px;justify-content:end;' href='https://deepnote.com?utm_source=created-in-deepnote-cell&projectId=8d3ae411-c6bc-4cad-8a14-732f8e3f13b7' target=\"_blank\">\n<img alt='Created in deepnote.com' style='display:inline;max-height:16px;margin:0px;margin-right:7.5px;' src='data:image/svg+xml;base64,PD94bWwgdmVyc2lvbj0iMS4wIiBlbmNvZGluZz0iVVRGLTgiPz4KPHN2ZyB3aWR0aD0iODBweCIgaGVpZ2h0PSI4MHB4IiB2aWV3Qm94PSIwIDAgODAgODAiIHZlcnNpb249IjEuMSIgeG1sbnM9Imh0dHA6Ly93d3cudzMub3JnLzIwMDAvc3ZnIiB4bWxuczp4bGluaz0iaHR0cDovL3d3dy53My5vcmcvMTk5OS94bGluayI+CiAgICA8IS0tIEdlbmVyYXRvcjogU2tldGNoIDU0LjEgKDc2NDkwKSAtIGh0dHBzOi8vc2tldGNoYXBwLmNvbSAtLT4KICAgIDx0aXRsZT5Hcm91cCAzPC90aXRsZT4KICAgIDxkZXNjPkNyZWF0ZWQgd2l0aCBTa2V0Y2guPC9kZXNjPgogICAgPGcgaWQ9IkxhbmRpbmciIHN0cm9rZT0ibm9uZSIgc3Ryb2tlLXdpZHRoPSIxIiBmaWxsPSJub25lIiBmaWxsLXJ1bGU9ImV2ZW5vZGQiPgogICAgICAgIDxnIGlkPSJBcnRib2FyZCIgdHJhbnNmb3JtPSJ0cmFuc2xhdGUoLTEyMzUuMDAwMDAwLCAtNzkuMDAwMDAwKSI+CiAgICAgICAgICAgIDxnIGlkPSJHcm91cC0zIiB0cmFuc2Zvcm09InRyYW5zbGF0ZSgxMjM1LjAwMDAwMCwgNzkuMDAwMDAwKSI+CiAgICAgICAgICAgICAgICA8cG9seWdvbiBpZD0iUGF0aC0yMCIgZmlsbD0iIzAyNjVCNCIgcG9pbnRzPSIyLjM3NjIzNzYyIDgwIDM4LjA0NzY2NjcgODAgNTcuODIxNzgyMiA3My44MDU3NTkyIDU3LjgyMTc4MjIgMzIuNzU5MjczOSAzOS4xNDAyMjc4IDMxLjY4MzE2ODMiPjwvcG9seWdvbj4KICAgICAgICAgICAgICAgIDxwYXRoIGQ9Ik0zNS4wMDc3MTgsODAgQzQyLjkwNjIwMDcsNzYuNDU0OTM1OCA0Ny41NjQ5MTY3LDcxLjU0MjI2NzEgNDguOTgzODY2LDY1LjI2MTk5MzkgQzUxLjExMjI4OTksNTUuODQxNTg0MiA0MS42NzcxNzk1LDQ5LjIxMjIyODQgMjUuNjIzOTg0Niw0OS4yMTIyMjg0IEMyNS40ODQ5Mjg5LDQ5LjEyNjg0NDggMjkuODI2MTI5Niw0My4yODM4MjQ4IDM4LjY0NzU4NjksMzEuNjgzMTY4MyBMNzIuODcxMjg3MSwzMi41NTQ0MjUgTDY1LjI4MDk3Myw2Ny42NzYzNDIxIEw1MS4xMTIyODk5LDc3LjM3NjE0NCBMMzUuMDA3NzE4LDgwIFoiIGlkPSJQYXRoLTIyIiBmaWxsPSIjMDAyODY4Ij48L3BhdGg+CiAgICAgICAgICAgICAgICA8cGF0aCBkPSJNMCwzNy43MzA0NDA1IEwyNy4xMTQ1MzcsMC4yNTcxMTE0MzYgQzYyLjM3MTUxMjMsLTEuOTkwNzE3MDEgODAsMTAuNTAwMzkyNyA4MCwzNy43MzA0NDA1IEM4MCw2NC45NjA0ODgyIDY0Ljc3NjUwMzgsNzkuMDUwMzQxNCAzNC4zMjk1MTEzLDgwIEM0Ny4wNTUzNDg5LDc3LjU2NzA4MDggNTMuNDE4MjY3Nyw3MC4zMTM2MTAzIDUzLjQxODI2NzcsNTguMjM5NTg4NSBDNTMuNDE4MjY3Nyw0MC4xMjg1NTU3IDM2LjMwMzk1NDQsMzcuNzMwNDQwNSAyNS4yMjc0MTcsMzcuNzMwNDQwNSBDMTcuODQzMDU4NiwzNy43MzA0NDA1IDkuNDMzOTE5NjYsMzcuNzMwNDQwNSAwLDM3LjczMDQ0MDUgWiIgaWQ9IlBhdGgtMTkiIGZpbGw9IiMzNzkzRUYiPjwvcGF0aD4KICAgICAgICAgICAgPC9nPgogICAgICAgIDwvZz4KICAgIDwvZz4KPC9zdmc+' > </img>\nCreated in <span style='font-weight:600;margin-left:4px;'>Deepnote</span></a>",
   "metadata": {
    "tags": [],
    "created_in_deepnote_cell": true,
    "deepnote_cell_type": "markdown"
   }
  }
 ],
 "nbformat": 4,
 "nbformat_minor": 2,
 "metadata": {
  "orig_nbformat": 2,
  "deepnote": {
   "is_reactive": false
  },
  "deepnote_notebook_id": "68cc7c0d-5550-425f-9908-10d8bb793ea9",
  "deepnote_execution_queue": [],
  "deepnote_app_layout": "article"
 }
}