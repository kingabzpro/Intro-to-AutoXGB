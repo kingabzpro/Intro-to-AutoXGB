{
 "cells": [
  {
   "cell_type": "markdown",
   "source": [
<<<<<<< HEAD:AutoXGB_tutorial.ipynb
    "<center>\n",
    "\n",
    "# Introduction to AutoXGB\n",
    "![cover](Images/deepnote.png)"
=======
    "# Introduction to AutoXGB\n\n",
    "![deepnote](/Images/deepnote.png)"
>>>>>>> c0bd88eb5009dcbdb87bf2a1ca2df3008d461b5a:notebook.ipynb
   ],
   "metadata": {
    "cell_id": "0da8ed73-bad3-4880-95c9-70ff5f4d38c2",
    "tags": [],
    "deepnote_app_coordinates": {
     "x": 0,
     "y": 12,
     "w": 12,
     "h": 5
    },
    "deepnote_cell_type": "markdown"
   }
  },
  {
   "cell_type": "markdown",
   "source": [
    "<center>\n",
    "\n",
    "[<img alt=\"Github\" src=\"https://img.shields.io/badge/AutoXGB-0.2.2-1e90ff?logo=github&logoColor=white&style=for-the-badge\" />](https://github.com/abhishekkrthakur/autoxgb)\n",
    "\n",
    "**XGBoost + Optuna: no brainer**\n",
    "</center>"
   ],
   "metadata": {
    "cell_id": "6ffef0ff-9dba-4c0a-a187-ec95bf992eaf",
    "tags": [],
    "deepnote_app_coordinates": {
     "x": 0,
     "y": 18,
     "w": 12,
     "h": 5
    },
    "deepnote_cell_type": "markdown"
   }
  },
  {
   "cell_type": "markdown",
   "source": [
    "AutoXGB is simple but effective AutoML tool to train model tabular dataset directly. The AutoXGB use [XGBoost](https://xgboost.readthedocs.io/en/stable/) for training the model, [Optuna](https://optuna.org/) for hyperparameters optimization and [FastAPI](https://fastapi.tiangolo.com/) to run web app. \n",
    "\n",
    "* auto train xgboost directly from CSV files\n",
    "* auto tune xgboost using Optuna\n",
    "* auto serve best xgboot model using FastAPI\n",
    "\n",
    "```python\n",
    "pip install autoxgb\n",
    "```"
   ],
   "metadata": {
    "cell_id": "54be7fca-7901-4b7a-be44-68a06393c38d",
    "tags": [],
    "deepnote_app_coordinates": {
     "x": 0,
     "y": 24,
     "w": 12,
     "h": 5
    },
    "deepnote_cell_type": "markdown"
   }
  },
  {
   "cell_type": "markdown",
   "source": [
    "# Dataset\n",
    "The dataset is available at Kaggle: [Adult Census Income](https://www.kaggle.com/uciml/adult-census-income) under [CC0: Public Domain](https://creativecommons.org/publicdomain/zero/1.0/). It was extracted from the [1994 Census bureau database](http://www.census.gov/en.html) by Ronny Kohavi and Barry Becker (Data Mining and Visualization, Silicon Graphics).The prediction task is to determine whether a person makes over $50K a year."
   ],
   "metadata": {
    "cell_id": "fe676988-acd2-4a07-8452-d51afd3996bf",
    "tags": [],
    "deepnote_app_coordinates": {
     "x": 0,
     "y": 0,
     "w": 12,
     "h": 5
    },
    "deepnote_cell_type": "markdown"
   }
  },
  {
   "cell_type": "markdown",
   "source": [
    "# Initializing\n",
    "- **train_filename** -> path to training data\n",
    "- **output** -> path to output folder to store artifacts\n",
    "- **test_filename** -> path to test data. If not specified, only OOF predictions will be saved\n",
    "- **task** = None -> if not specified, the task will be inferred automatically\n",
    "    - task = \"classification\"\n",
    "    - task = \"regression\"\n",
    "- **idx** -> if not specified, the id column will be generated automatically with the name `id`\n",
    "- **targets** -> if not specified, the target column be assumed to be named `target` and the problem will be treated as one of: binary classification, multiclass classification, or single column regression\n",
    "    * targets = [\"target\"]\n",
    "    * targets = [\"target1\", \"target2\"]\n",
    "- **features** -> if not specified, all columns except `id`, `targets` & `kfold` columns will be used\n",
    "    - features = [\"col1\", \"col2\"]\n",
    "- **categorical_features** -> if not specified, categorical columns will be inferred automatically\n",
    "    - categorical_features = [\"col1\", \"col2\"]\n",
    "- **use_gpu** -> if not specified, GPU is not used\n",
    "    - use_gpu = True\n",
    "    - use_gpu = False\n",
    "- **num_folds** -> number of folds to use for cross-validation\n",
    "- **seed** -> random seed for reproducibility\n",
    "\n",
    "\n",
    "- **num_trials** -> number of optuna trials to run\n",
    "    - default is 1000\n",
    "    - num_trials = 1000\n",
    "- **time_limit** -> time_limit for optuna trials in seconds\n",
    "    - if not specified, timeout is not set and all trials are run\n",
    "    - time_limit = None\n",
    "\n",
    "- **fast** -> if fast is set to True, the hyperparameter tuning will use only one fold. however, the model will be trained on all folds in the end to generate OOF predictions and test predictions"
   ],
   "metadata": {
    "cell_id": "1f582a00-e2d4-4847-93a6-340b1a5d54e5",
    "tags": [],
    "deepnote_app_coordinates": {
     "x": 0,
     "y": 30,
     "w": 12,
     "h": 5
    },
    "deepnote_cell_type": "markdown"
   }
  },
  {
   "cell_type": "code",
   "metadata": {
    "cell_id": "202606ed-9700-4c6e-a3ab-92cea854306c",
    "tags": [],
    "deepnote_to_be_reexecuted": false,
    "source_hash": "53cc88ff",
    "execution_start": 1644495784843,
    "execution_millis": 4158,
    "deepnote_app_coordinates": {
     "x": 0,
     "y": 36,
     "w": 12,
     "h": 5
    },
    "deepnote_cell_type": "code"
   },
   "source": [
    "from autoxgb import AutoXGB\n",
    "\n",
    "\n",
    "# Input tabular data and output artifacts\n",
    "train_filename = \"binary_classification.csv\"\n",
    "output = \"output\"\n",
    "\n",
    "# optional parameters\n",
    "test_filename = None\n",
    "task = None\n",
    "idx = None\n",
    "targets = [\"income\"]\n",
    "features = None\n",
    "categorical_features = None\n",
    "use_gpu = False\n",
    "num_folds = 5\n",
    "seed = 42\n",
    "num_trials = 100\n",
    "time_limit = 360\n",
    "fast = False"
   ],
   "execution_count": null,
   "outputs": []
  },
  {
   "cell_type": "markdown",
   "source": [
    "# Training & Optimization\n",
    "It's time to defined model using `AutoXGB()`and add previously defined parameters. Finally, we will use `axgb.train()` to start model training. The model will run XGBboost model, Optuna, and save artifacts (**model, predication, results, config, params, encoders**) in output folder."
   ],
   "metadata": {
    "cell_id": "59a05503-a53d-473a-b3a0-332bd8171039",
    "tags": [],
    "deepnote_app_coordinates": {
     "x": 0,
     "y": 42,
     "w": 12,
     "h": 5
    },
    "deepnote_cell_type": "markdown"
   }
  },
  {
   "cell_type": "code",
   "metadata": {
    "cell_id": "fc62dca8-519c-49e3-9a06-b372b25cc075",
    "tags": [],
    "deepnote_to_be_reexecuted": false,
    "source_hash": "18916406",
    "execution_start": 1644428212311,
    "execution_millis": 2075103,
    "deepnote_app_coordinates": {
     "x": 0,
     "y": null,
     "w": 12,
     "h": 5
    },
    "deepnote_cell_type": "code"
   },
   "source": [
    "axgb = AutoXGB(\n",
    "    train_filename=train_filename,\n",
    "    output=output,\n",
    "    test_filename=test_filename,\n",
    "    task=task,\n",
    "    idx=idx,\n",
    "    targets=targets,\n",
    "    features=features,\n",
    "    categorical_features=categorical_features,\n",
    "    use_gpu=use_gpu,\n",
    "    num_folds=num_folds,\n",
    "    seed=seed,\n",
    "    num_trials=num_trials,\n",
    "    time_limit=time_limit,\n",
    "    fast=fast,\n",
    ")\n",
    "axgb.train()"
   ],
   "execution_count": null,
   "outputs": [
    {
     "name": "stderr",
     "text": "2022-02-09 17:36:52.310 | INFO     | autoxgb.autoxgb:__post_init__:42 - Output directory: output\n2022-02-09 17:36:52.311 | WARNING  | autoxgb.autoxgb:__post_init__:49 - No id column specified. Will default to `id`.\n2022-02-09 17:36:52.314 | INFO     | autoxgb.autoxgb:_process_data:149 - Reading training data\n2022-02-09 17:36:52.403 | INFO     | autoxgb.utils:reduce_memory_usage:48 - Mem. usage decreased to 2.64 Mb (29.2% reduction)\n2022-02-09 17:36:52.427 | INFO     | autoxgb.autoxgb:_determine_problem_type:140 - Problem type: binary_classification\n2022-02-09 17:36:52.428 | INFO     | autoxgb.autoxgb:_create_folds:58 - Creating folds\n2022-02-09 17:36:52.472 | INFO     | autoxgb.autoxgb:_process_data:170 - Encoding target(s)\n2022-02-09 17:36:52.486 | INFO     | autoxgb.autoxgb:_process_data:195 - Found 8 categorical features.\n2022-02-09 17:36:52.490 | INFO     | autoxgb.autoxgb:_process_data:198 - Encoding categorical features\n2022-02-09 17:36:53.034 | INFO     | autoxgb.autoxgb:_process_data:236 - Model config: train_filename='binary_classification.csv' test_filename=None idx='id' targets=['income'] problem_type=<ProblemType.binary_classification: 1> output='output' features=['age', 'workclass', 'fnlwgt', 'education', 'education.num', 'marital.status', 'occupation', 'relationship', 'race', 'sex', 'capital.gain', 'capital.loss', 'hours.per.week', 'native.country'] num_folds=5 use_gpu=False seed=42 categorical_features=['workclass', 'education', 'marital.status', 'occupation', 'relationship', 'race', 'sex', 'native.country'] num_trials=100 time_limit=360 fast=False\n2022-02-09 17:36:53.035 | INFO     | autoxgb.autoxgb:_process_data:237 - Saving model config\n2022-02-09 17:36:53.043 | INFO     | autoxgb.autoxgb:_process_data:241 - Saving encoders\n\u001B[32m[I 2022-02-09 17:36:53,373]\u001B[0m A new study created in RDB with name: autoxgb\u001B[0m\n[17:36:54] WARNING: ../src/learner.cc:576: \nParameters: { \"colsample_bytree\", \"max_depth\", \"subsample\", \"tree_method\" } might not be used.\n\n  This could be a false alarm, with some parameters getting used by language bindings but\n  then being mistakenly passed down to XGBoost core, or some parameter actually being used\n  but getting flagged wrongly here. Please open an issue if you find any such cases.\n\n\n[17:40:28] WARNING: ../src/learner.cc:576: \nParameters: { \"colsample_bytree\", \"max_depth\", \"subsample\", \"tree_method\" } might not be used.\n\n  This could be a false alarm, with some parameters getting used by language bindings but\n  then being mistakenly passed down to XGBoost core, or some parameter actually being used\n  but getting flagged wrongly here. Please open an issue if you find any such cases.\n\n\n[17:43:51] WARNING: ../src/learner.cc:576: \nParameters: { \"colsample_bytree\", \"max_depth\", \"subsample\", \"tree_method\" } might not be used.\n\n  This could be a false alarm, with some parameters getting used by language bindings but\n  then being mistakenly passed down to XGBoost core, or some parameter actually being used\n  but getting flagged wrongly here. Please open an issue if you find any such cases.\n\n\n[17:47:12] WARNING: ../src/learner.cc:576: \nParameters: { \"colsample_bytree\", \"max_depth\", \"subsample\", \"tree_method\" } might not be used.\n\n  This could be a false alarm, with some parameters getting used by language bindings but\n  then being mistakenly passed down to XGBoost core, or some parameter actually being used\n  but getting flagged wrongly here. Please open an issue if you find any such cases.\n\n\n[17:50:28] WARNING: ../src/learner.cc:576: \nParameters: { \"colsample_bytree\", \"max_depth\", \"subsample\", \"tree_method\" } might not be used.\n\n  This could be a false alarm, with some parameters getting used by language bindings but\n  then being mistakenly passed down to XGBoost core, or some parameter actually being used\n  but getting flagged wrongly here. Please open an issue if you find any such cases.\n\n\n2022-02-09 17:53:44.358 | INFO     | autoxgb.utils:optimize:192 - Metrics: {'auc': 0.8515864262823316, 'logloss': 0.3868649856836543, 'f1': 0.5351485750859325, 'accuracy': 0.8230396087432015, 'precision': 0.7282822005864846, 'recall': 0.42303153575005525}\n\u001B[32m[I 2022-02-09 17:53:44,509]\u001B[0m Trial 0 finished with value: 0.3868649856836543 and parameters: {'learning_rate': 0.03456865625078672, 'reg_lambda': 2.2769738947690841e-07, 'reg_alpha': 0.006720213271638041, 'subsample': 0.6602398119145353, 'colsample_bytree': 0.7758360189887558, 'max_depth': 6, 'early_stopping_rounds': 286, 'n_estimators': 7000, 'tree_method': 'approx', 'booster': 'gblinear'}. Best is trial 0 with value: 0.3868649856836543.\u001B[0m\n2022-02-09 17:53:44.545 | INFO     | autoxgb.autoxgb:train:248 - Training complete\n2022-02-09 17:53:44.547 | INFO     | autoxgb.autoxgb:predict:252 - Creating OOF and test predictions\n2022-02-09 17:53:44.550 | INFO     | autoxgb.utils:predict_model:238 - Training and predicting for fold 0\n[17:53:44] WARNING: ../src/learner.cc:576: \nParameters: { \"colsample_bytree\", \"max_depth\", \"subsample\", \"tree_method\" } might not be used.\n\n  This could be a false alarm, with some parameters getting used by language bindings but\n  then being mistakenly passed down to XGBoost core, or some parameter actually being used\n  but getting flagged wrongly here. Please open an issue if you find any such cases.\n\n\n2022-02-09 17:57:07.674 | INFO     | autoxgb.utils:predict_model:333 - Fold 0 done!\n2022-02-09 17:57:07.677 | INFO     | autoxgb.utils:predict_model:238 - Training and predicting for fold 1\n[17:57:07] WARNING: ../src/learner.cc:576: \nParameters: { \"colsample_bytree\", \"max_depth\", \"subsample\", \"tree_method\" } might not be used.\n\n  This could be a false alarm, with some parameters getting used by language bindings but\n  then being mistakenly passed down to XGBoost core, or some parameter actually being used\n  but getting flagged wrongly here. Please open an issue if you find any such cases.\n\n\n2022-02-09 18:00:40.616 | INFO     | autoxgb.utils:predict_model:333 - Fold 1 done!\n2022-02-09 18:00:40.622 | INFO     | autoxgb.utils:predict_model:238 - Training and predicting for fold 2\n[18:00:40] WARNING: ../src/learner.cc:576: \nParameters: { \"colsample_bytree\", \"max_depth\", \"subsample\", \"tree_method\" } might not be used.\n\n  This could be a false alarm, with some parameters getting used by language bindings but\n  then being mistakenly passed down to XGBoost core, or some parameter actually being used\n  but getting flagged wrongly here. Please open an issue if you find any such cases.\n\n\n",
     "output_type": "stream"
    },
    {
     "name": "stderr",
     "text": "2022-02-09 18:04:11.459 | INFO     | autoxgb.utils:predict_model:333 - Fold 2 done!\n2022-02-09 18:04:11.460 | INFO     | autoxgb.utils:predict_model:238 - Training and predicting for fold 3\n[18:04:11] WARNING: ../src/learner.cc:576: \nParameters: { \"colsample_bytree\", \"max_depth\", \"subsample\", \"tree_method\" } might not be used.\n\n  This could be a false alarm, with some parameters getting used by language bindings but\n  then being mistakenly passed down to XGBoost core, or some parameter actually being used\n  but getting flagged wrongly here. Please open an issue if you find any such cases.\n\n\n2022-02-09 18:07:48.436 | INFO     | autoxgb.utils:predict_model:333 - Fold 3 done!\n2022-02-09 18:07:48.442 | INFO     | autoxgb.utils:predict_model:238 - Training and predicting for fold 4\n[18:07:48] WARNING: ../src/learner.cc:576: \nParameters: { \"colsample_bytree\", \"max_depth\", \"subsample\", \"tree_method\" } might not be used.\n\n  This could be a false alarm, with some parameters getting used by language bindings but\n  then being mistakenly passed down to XGBoost core, or some parameter actually being used\n  but getting flagged wrongly here. Please open an issue if you find any such cases.\n\n\n2022-02-09 18:11:27.161 | INFO     | autoxgb.utils:predict_model:333 - Fold 4 done!\n2022-02-09 18:11:27.163 | INFO     | autoxgb.utils:predict_model:336 - Metrics: {'auc': 0.851585935958628, 'logloss': 0.3868651767621002, 'f1': 0.5351485750859325, 'accuracy': 0.8230396087432015, 'precision': 0.7282822005864846, 'recall': 0.42303153575005525}\n2022-02-09 18:11:27.400 | INFO     | autoxgb.utils:predict_model:342 - No test data supplied. Only OOF predictions were generated\n",
     "output_type": "stream"
    }
   ]
  },
  {
   "cell_type": "markdown",
   "source": [
    "## Training with CLI\n",
    "\n",
    "We can also train the model in terminal using the `autoxgb train` command. The parameters are same as above.\n",
    "\n",
    "```\n",
    "autoxgb train \\\n",
    " --train_filename binary_classification.csv \\\n",
    " --output output \\\n",
    "```"
   ],
   "metadata": {
    "cell_id": "f9aa9c4e-87ed-449e-9825-98df0aa0fd98",
    "tags": [],
    "deepnote_app_coordinates": {
     "x": 0,
     "y": 96,
     "w": 12,
     "h": 5
    },
    "deepnote_cell_type": "markdown"
   }
  },
  {
   "cell_type": "markdown",
   "source": [
    "# Web API\n",
    "By using `autoxgb serve` on CLI you can run localy FastAPI server. \n",
    "\n",
    "![Picture title](Images/image-20220210-172802.png)\n",
    "\n",
    "\n",
    "## AutoXGB Serve Parameters\n",
    "- model_path -> Path to model\n",
    "- port -> Port to serve on\n",
    "- host -> Host to serve on\n",
    "- workers -> Number of workers\n",
    "- debug -> Display logs of error and success"
   ],
   "metadata": {
    "cell_id": "4d2b6d19-c7b7-4430-925f-b82e3825dbc6",
    "tags": [],
    "deepnote_app_coordinates": {
     "x": 0,
     "y": 48,
     "w": 12,
     "h": 5
    },
    "deepnote_cell_type": "markdown"
   }
  },
  {
   "cell_type": "markdown",
   "source": [
    "## Deepnote Public Server\n",
    "In order to run local server on cloud, Deepnote use `ngrok`. We just need to turn on the option and use port as 8080.\n",
    "\n",
    "![Picture title](Images/image-20220210-171603.png)\n",
    "\n",
    "Our API is running smooth and you can access it using `https://8d3ae411-c6bc-4cad-8a14-732f8e3f13b7.deepnoteproject.com/docs`. We have provided just model path, host ip, and port number to run the server."
   ],
   "metadata": {
    "cell_id": "76cafab7-b255-4d55-99e5-dc6a04f78cec",
    "tags": [],
    "deepnote_app_coordinates": {
     "x": 0,
     "y": 54,
     "w": 12,
     "h": 5
    },
    "deepnote_cell_type": "markdown"
   }
  },
  {
   "cell_type": "code",
   "metadata": {
    "cell_id": "4dc3b18e-c6c3-4d38-80ba-6db1fa8c4c06",
    "tags": [],
    "deepnote_to_be_reexecuted": false,
    "source_hash": "4323e44c",
    "execution_start": 1644495829825,
    "execution_millis": 1410966,
    "deepnote_app_coordinates": {
     "x": 0,
     "y": 6,
     "w": 12,
     "h": 5
    },
    "deepnote_cell_type": "code"
   },
   "source": "!autoxgb serve --model_path /work/output --host 0.0.0.0 --port 8080 --debug",
   "execution_count": null,
   "outputs": [
    {
     "name": "stdout",
     "text": "\u001B[32mINFO\u001B[0m:     Will watch for changes in these directories: ['/work']\n\u001B[32mINFO\u001B[0m:     Uvicorn running on \u001B[1mhttp://0.0.0.0:8080\u001B[0m (Press CTRL+C to quit)\n\u001B[32mINFO\u001B[0m:     Started reloader process [\u001B[36m\u001B[1m153\u001B[0m] using \u001B[36m\u001B[1mwatchgod\u001B[0m\n\u001B[32mINFO\u001B[0m:     Started server process [\u001B[36m163\u001B[0m]\n\u001B[32mINFO\u001B[0m:     Waiting for application startup.\n\u001B[32mINFO\u001B[0m:     Application startup complete.\n\u001B[32mINFO\u001B[0m:     172.3.167.43:41136 - \"\u001B[1mGET /favicon.ico HTTP/1.1\u001B[0m\" \u001B[31m404 Not Found\u001B[0m\n\u001B[32mINFO\u001B[0m:     172.3.167.43:41278 - \"\u001B[1mGET / HTTP/1.1\u001B[0m\" \u001B[31m404 Not Found\u001B[0m\n\u001B[32mINFO\u001B[0m:     172.3.188.123:38366 - \"\u001B[1mGET /doc HTTP/1.1\u001B[0m\" \u001B[31m404 Not Found\u001B[0m\n\u001B[32mINFO\u001B[0m:     172.3.161.55:40498 - \"\u001B[1mGET /doc HTTP/1.1\u001B[0m\" \u001B[31m404 Not Found\u001B[0m\n\u001B[32mINFO\u001B[0m:     172.3.161.55:40628 - \"\u001B[1mGET /docs HTTP/1.1\u001B[0m\" \u001B[32m200 OK\u001B[0m\n\u001B[32mINFO\u001B[0m:     172.3.188.123:38788 - \"\u001B[1mGET /openapi.json HTTP/1.1\u001B[0m\" \u001B[32m200 OK\u001B[0m\n\u001B[32mINFO\u001B[0m:     172.3.167.43:48326 - \"\u001B[1mGET /docs HTTP/1.1\u001B[0m\" \u001B[32m200 OK\u001B[0m\n\u001B[32mINFO\u001B[0m:     172.3.161.55:47018 - \"\u001B[1mGET /openapi.json HTTP/1.1\u001B[0m\" \u001B[32m200 OK\u001B[0m\n/root/venv/lib/python3.8/site-packages/autoxgb/predict.py:60: SettingWithCopyWarning: \nA value is trying to be set on a copy of a slice from a DataFrame.\nTry using .loc[row_indexer,col_indexer] = value instead\n\nSee the caveats in the documentation: https://pandas.pydata.org/pandas-docs/stable/user_guide/indexing.html#returning-a-view-versus-a-copy\n  test_features[col] = test_features[col].astype(np.int64)\n/root/venv/lib/python3.8/site-packages/autoxgb/predict.py:60: SettingWithCopyWarning: \nA value is trying to be set on a copy of a slice from a DataFrame.\nTry using .loc[row_indexer,col_indexer] = value instead\n\nSee the caveats in the documentation: https://pandas.pydata.org/pandas-docs/stable/user_guide/indexing.html#returning-a-view-versus-a-copy\n  test_features[col] = test_features[col].astype(np.int64)\n/root/venv/lib/python3.8/site-packages/autoxgb/predict.py:60: SettingWithCopyWarning: \nA value is trying to be set on a copy of a slice from a DataFrame.\nTry using .loc[row_indexer,col_indexer] = value instead\n\nSee the caveats in the documentation: https://pandas.pydata.org/pandas-docs/stable/user_guide/indexing.html#returning-a-view-versus-a-copy\n  test_features[col] = test_features[col].astype(np.int64)\n/root/venv/lib/python3.8/site-packages/autoxgb/predict.py:60: SettingWithCopyWarning: \nA value is trying to be set on a copy of a slice from a DataFrame.\nTry using .loc[row_indexer,col_indexer] = value instead\n\nSee the caveats in the documentation: https://pandas.pydata.org/pandas-docs/stable/user_guide/indexing.html#returning-a-view-versus-a-copy\n  test_features[col] = test_features[col].astype(np.int64)\n/root/venv/lib/python3.8/site-packages/autoxgb/predict.py:60: SettingWithCopyWarning: \nA value is trying to be set on a copy of a slice from a DataFrame.\nTry using .loc[row_indexer,col_indexer] = value instead\n\nSee the caveats in the documentation: https://pandas.pydata.org/pandas-docs/stable/user_guide/indexing.html#returning-a-view-versus-a-copy\n  test_features[col] = test_features[col].astype(np.int64)\n\u001B[32mINFO\u001B[0m:     172.3.167.43:38678 - \"\u001B[1mPOST /predict HTTP/1.1\u001B[0m\" \u001B[32m200 OK\u001B[0m\n\u001B[32mINFO\u001B[0m:     172.3.188.123:51408 - \"\u001B[1mGET / HTTP/1.1\u001B[0m\" \u001B[31m404 Not Found\u001B[0m\n\u001B[32mINFO\u001B[0m:     172.3.161.55:54290 - \"\u001B[1mGET / HTTP/1.1\u001B[0m\" \u001B[31m404 Not Found\u001B[0m\n\u001B[32mINFO\u001B[0m:     172.3.161.55:54294 - \"\u001B[1mPOST /predict/ HTTP/1.1\u001B[0m\" \u001B[33m307 Temporary Redirect\u001B[0m\n\u001B[32mINFO\u001B[0m:     172.3.167.43:55632 - \"\u001B[1mGET /predict HTTP/1.1\u001B[0m\" \u001B[31m405 Method Not Allowed\u001B[0m\n\u001B[32mINFO\u001B[0m:     172.3.167.43:58376 - \"\u001B[1mPOST /predict/ HTTP/1.1\u001B[0m\" \u001B[33m307 Temporary Redirect\u001B[0m\n\u001B[32mINFO\u001B[0m:     172.3.161.55:57048 - \"\u001B[1mGET /predict HTTP/1.1\u001B[0m\" \u001B[31m405 Method Not Allowed\u001B[0m\n\u001B[32mINFO\u001B[0m:     172.3.167.43:58782 - \"\u001B[1mGET /predict/ HTTP/1.1\u001B[0m\" \u001B[33m307 Temporary Redirect\u001B[0m\n\u001B[32mINFO\u001B[0m:     172.3.161.55:57508 - \"\u001B[1mGET /predict HTTP/1.1\u001B[0m\" \u001B[31m405 Method Not Allowed\u001B[0m\n\u001B[32mINFO\u001B[0m:     172.3.188.123:56730 - \"\u001B[1mPOST /predict/ HTTP/1.1\u001B[0m\" \u001B[33m307 Temporary Redirect\u001B[0m\n\u001B[32mINFO\u001B[0m:     172.3.161.55:58616 - \"\u001B[1mGET /predict HTTP/1.1\u001B[0m\" \u001B[31m405 Method Not Allowed\u001B[0m\n\u001B[32mINFO\u001B[0m:     172.3.161.55:59288 - \"\u001B[1mPOST /predict/ HTTP/1.1\u001B[0m\" \u001B[33m307 Temporary Redirect\u001B[0m\n\u001B[32mINFO\u001B[0m:     172.3.167.43:60628 - \"\u001B[1mGET /predict HTTP/1.1\u001B[0m\" \u001B[31m405 Method Not Allowed\u001B[0m\n\u001B[32mINFO\u001B[0m:     172.3.188.123:58756 - \"\u001B[1mPOST /predict/ HTTP/1.1\u001B[0m\" \u001B[33m307 Temporary Redirect\u001B[0m\n\u001B[32mINFO\u001B[0m:     172.3.188.123:58760 - \"\u001B[1mGET /predict HTTP/1.1\u001B[0m\" \u001B[31m405 Method Not Allowed\u001B[0m\n\u001B[32mINFO\u001B[0m:     172.3.167.43:34424 - \"\u001B[1mGET /docs/predict HTTP/1.1\u001B[0m\" \u001B[31m404 Not Found\u001B[0m\n\u001B[32mINFO\u001B[0m:     172.3.188.123:59578 - \"\u001B[1mGET /docs/ HTTP/1.1\u001B[0m\" \u001B[33m307 Temporary Redirect\u001B[0m\n\u001B[32mINFO\u001B[0m:     172.3.167.43:34576 - \"\u001B[1mGET /docs HTTP/1.1\u001B[0m\" \u001B[32m200 OK\u001B[0m\n\u001B[32mINFO\u001B[0m:     172.3.167.43:34616 - \"\u001B[1mGET /openapi.json HTTP/1.1\u001B[0m\" \u001B[32m200 OK\u001B[0m\n/root/venv/lib/python3.8/site-packages/autoxgb/predict.py:60: SettingWithCopyWarning: \nA value is trying to be set on a copy of a slice from a DataFrame.\nTry using .loc[row_indexer,col_indexer] = value instead\n\nSee the caveats in the documentation: https://pandas.pydata.org/pandas-docs/stable/user_guide/indexing.html#returning-a-view-versus-a-copy\n  test_features[col] = test_features[col].astype(np.int64)\n/root/venv/lib/python3.8/site-packages/autoxgb/predict.py:60: SettingWithCopyWarning: \nA value is trying to be set on a copy of a slice from a DataFrame.\nTry using .loc[row_indexer,col_indexer] = value instead\n\nSee the caveats in the documentation: https://pandas.pydata.org/pandas-docs/stable/user_guide/indexing.html#returning-a-view-versus-a-copy\n  test_features[col] = test_features[col].astype(np.int64)\n/root/venv/lib/python3.8/site-packages/autoxgb/predict.py:60: SettingWithCopyWarning: \nA value is trying to be set on a copy of a slice from a DataFrame.\nTry using .loc[row_indexer,col_indexer] = value instead\n\nSee the caveats in the documentation: https://pandas.pydata.org/pandas-docs/stable/user_guide/indexing.html#returning-a-view-versus-a-copy\n  test_features[col] = test_features[col].astype(np.int64)\n/root/venv/lib/python3.8/site-packages/autoxgb/predict.py:60: SettingWithCopyWarning: \nA value is trying to be set on a copy of a slice from a DataFrame.\nTry using .loc[row_indexer,col_indexer] = value instead\n\nSee the caveats in the documentation: https://pandas.pydata.org/pandas-docs/stable/user_guide/indexing.html#returning-a-view-versus-a-copy\n  test_features[col] = test_features[col].astype(np.int64)\n/root/venv/lib/python3.8/site-packages/autoxgb/predict.py:60: SettingWithCopyWarning: \nA value is trying to be set on a copy of a slice from a DataFrame.\nTry using .loc[row_indexer,col_indexer] = value instead\n\nSee the caveats in the documentation: https://pandas.pydata.org/pandas-docs/stable/user_guide/indexing.html#returning-a-view-versus-a-copy\n  test_features[col] = test_features[col].astype(np.int64)\n\u001B[32mINFO\u001B[0m:     172.3.167.43:35520 - \"\u001B[1mPOST /predict HTTP/1.1\u001B[0m\" \u001B[32m200 OK\u001B[0m\n\u001B[32mINFO\u001B[0m:     172.3.188.123:35358 - \"\u001B[1mPOST /predict HTTP/1.1\u001B[0m\" \u001B[31m422 Unprocessable Entity\u001B[0m\n/root/venv/lib/python3.8/site-packages/autoxgb/predict.py:60: SettingWithCopyWarning: \nA value is trying to be set on a copy of a slice from a DataFrame.\nTry using .loc[row_indexer,col_indexer] = value instead\n\nSee the caveats in the documentation: https://pandas.pydata.org/pandas-docs/stable/user_guide/indexing.html#returning-a-view-versus-a-copy\n  test_features[col] = test_features[col].astype(np.int64)\n/root/venv/lib/python3.8/site-packages/autoxgb/predict.py:60: SettingWithCopyWarning: \nA value is trying to be set on a copy of a slice from a DataFrame.\nTry using .loc[row_indexer,col_indexer] = value instead\n\nSee the caveats in the documentation: https://pandas.pydata.org/pandas-docs/stable/user_guide/indexing.html#returning-a-view-versus-a-copy\n  test_features[col] = test_features[col].astype(np.int64)\n/root/venv/lib/python3.8/site-packages/autoxgb/predict.py:60: SettingWithCopyWarning: \nA value is trying to be set on a copy of a slice from a DataFrame.\nTry using .loc[row_indexer,col_indexer] = value instead\n\nSee the caveats in the documentation: https://pandas.pydata.org/pandas-docs/stable/user_guide/indexing.html#returning-a-view-versus-a-copy\n  test_features[col] = test_features[col].astype(np.int64)\n/root/venv/lib/python3.8/site-packages/autoxgb/predict.py:60: SettingWithCopyWarning: \nA value is trying to be set on a copy of a slice from a DataFrame.\nTry using .loc[row_indexer,col_indexer] = value instead\n\nSee the caveats in the documentation: https://pandas.pydata.org/pandas-docs/stable/user_guide/indexing.html#returning-a-view-versus-a-copy\n  test_features[col] = test_features[col].astype(np.int64)\n/root/venv/lib/python3.8/site-packages/autoxgb/predict.py:60: SettingWithCopyWarning: \nA value is trying to be set on a copy of a slice from a DataFrame.\nTry using .loc[row_indexer,col_indexer] = value instead\n\nSee the caveats in the documentation: https://pandas.pydata.org/pandas-docs/stable/user_guide/indexing.html#returning-a-view-versus-a-copy\n  test_features[col] = test_features[col].astype(np.int64)\n\u001B[32mINFO\u001B[0m:     172.3.167.43:39118 - \"\u001B[1mPOST /predict HTTP/1.1\u001B[0m\" \u001B[32m200 OK\u001B[0m\n^C\n\u001B[32mINFO\u001B[0m:     Shutting down\n\u001B[32mINFO\u001B[0m:     Finished server process [\u001B[36m163\u001B[0m]\n\u001B[31mERROR\u001B[0m:    Traceback (most recent call last):\n  File \"/root/venv/lib/python3.8/site-packages/starlette/routing.py\", line 624, in lifespan\n    await receive()\n  File \"/root/venv/lib/python3.8/site-packages/uvicorn/lifespan/on.py\", line 135, in receive\n    return await self.receive_queue.get()\n  File \"/usr/local/lib/python3.8/asyncio/queues.py\", line 163, in get\n    await getter\nasyncio.exceptions.CancelledError\n\n",
     "output_type": "stream"
    }
   ]
  },
  {
   "cell_type": "markdown",
   "source": "# Prediction\n\nWe can add random inputs to predict the income . In this example we are using FastAPI `/docs` option to run GUI.",
   "metadata": {
    "cell_id": "08aaa46c-4031-4510-87f0-c4154279f18a",
    "tags": [],
    "deepnote_app_coordinates": {
     "x": 0,
     "y": 60,
     "w": 12,
     "h": 5
    },
    "deepnote_cell_type": "markdown"
   }
  },
  {
   "cell_type": "markdown",
   "source": "## Input\nWe are going to use FastAPI GUI to run predictions on model by adding `/docs` at the end of the link. For example `172.3.167.43:39118/docs`\n- workclass: \"Private\"\n- education: \"HS-grad\"\n- marital.status: \"Widowed\"\n- occupation: \"Transport-moving\"\n- relationship: \"Unmarried\"\n- race: \"White\"\n- sex: \"Male\"\n- native.country: \"United-States\"\n- age: 20\n- fnlwgt: 313986\n- education.num: 9\n- capital.gain: 0\n- capital.loss: 0\n- hours.per.week: 40\n\n![Picture title](Images/image-20220210-173410.png)",
   "metadata": {
    "cell_id": "09ebe48e-06cc-4533-b6b2-2a1f7595ed09",
    "tags": [],
    "deepnote_app_coordinates": {
     "x": 0,
     "y": 66,
     "w": 12,
     "h": 5
    },
    "deepnote_cell_type": "markdown"
   }
  },
  {
   "cell_type": "markdown",
   "source": "## Outcome\nThe result is `<50k` with confidence of 97.6% and `>50k` with confidence of 2.3%.",
   "metadata": {
    "cell_id": "636f2f71-8706-49c7-86c6-3c18a05c96c7",
    "tags": [],
    "deepnote_app_coordinates": {
     "x": 0,
     "y": 84,
     "w": 12,
     "h": 5
    },
    "deepnote_cell_type": "markdown"
   }
  },
  {
   "cell_type": "markdown",
   "source": "![Picture title](Images/image-20220210-173502.png)",
   "metadata": {
    "cell_id": "b77086fd-d56a-4950-bc1d-6359cffc09fa",
    "tags": [],
    "deepnote_app_coordinates": {
     "x": 0,
     "y": 72,
     "w": 12,
     "h": 5
    },
    "deepnote_cell_type": "markdown"
   }
  },
  {
   "cell_type": "markdown",
   "source": "## Test with Request\nYou can try the API using `requests` in Python. Just push params in the form of a dictionary and get output in the form of json.",
   "metadata": {
    "cell_id": "490da98d-eac8-4ecd-b804-6a472913376b",
    "tags": [],
    "deepnote_app_coordinates": {
     "x": 0,
     "y": 90,
     "w": 12,
     "h": 5
    },
    "deepnote_cell_type": "markdown"
   }
  },
  {
   "cell_type": "code",
   "metadata": {
    "cell_id": "0025219a-7b22-4ab2-81e9-c18f76e1bc65",
    "tags": [],
    "deepnote_to_be_reexecuted": false,
    "source_hash": "b47081da",
    "execution_start": 1644497240806,
    "execution_millis": 924,
    "output_cleared": true,
    "deepnote_app_coordinates": {
     "x": 0,
     "y": 78,
     "w": 12,
     "h": 5
    },
    "deepnote_cell_type": "code"
   },
   "source": "import requests\n\nparams = {\n    \"workclass\": \"Private\",\n    \"education\": \"HS-grad\",\n    \"marital.status\": \"Widowed\",\n    \"occupation\": \"Transport-moving\",\n    \"relationship\": \"Unmarried\",\n    \"race\": \"White\",\n    \"sex\": \"Male\",\n    \"native.country\": \"United-States\",\n    \"age\": 20,\n    \"fnlwgt\": 313986,\n    \"education.num\": 9,\n    \"capital.gain\": 0,\n    \"capital.loss\": 0,\n    \"hours.per.week\": 40,\n}\n\n\narticle = requests.post(\n    f\"https://8d3ae411-c6bc-4cad-8a14-732f8e3f13b7.deepnoteproject.com/predict\",\n    json=params,\n)\n\ndata_dict = article.json()\nprint(data_dict)\n## {'id': 0, '<=50K': 0.9762147068977356, '>50K': 0.023785298690199852}",
   "execution_count": null,
   "outputs": []
  },
  {
   "cell_type": "markdown",
   "source": "<a style='text-decoration:none;line-height:16px;display:flex;color:#5B5B62;padding:10px;justify-content:end;' href='https://deepnote.com?utm_source=created-in-deepnote-cell&projectId=8d3ae411-c6bc-4cad-8a14-732f8e3f13b7' target=\"_blank\">\n<img alt='Created in deepnote.com' style='display:inline;max-height:16px;margin:0px;margin-right:7.5px;' src='data:image/svg+xml;base64,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' > </img>\nCreated in <span style='font-weight:600;margin-left:4px;'>Deepnote</span></a>",
   "metadata": {
    "tags": [],
    "created_in_deepnote_cell": true,
    "deepnote_cell_type": "markdown"
   }
  }
 ],
 "nbformat": 4,
 "nbformat_minor": 2,
 "metadata": {
  "orig_nbformat": 2,
  "deepnote": {
   "is_reactive": false
  },
  "deepnote_notebook_id": "66d6f376-bdff-4dfd-84ba-70707cc918ab",
  "deepnote_execution_queue": [],
  "deepnote_app_layout": "article"
 }
}
